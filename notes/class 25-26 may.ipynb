{
 "cells": [
  {
   "cell_type": "markdown",
   "metadata": {},
   "source": [
    "* Least squares\n",
    "* Linear regression\n",
    "* regression is a set of algorithms, to predict continuous numerical values\n",
    "* metrics from sklearn => for model evaluation\n",
    "* in \"weakly positive\" weakly => spread closeness, positive => slope of line\n",
    "* p-value, null hypothesis\n",
    "* in linear regression, infinite lines are tested, then finds a best fit line, by minimizing error, gradient descent VS least squares\n",
    "* error is the perpendicular distance, square mean error, root square mean error\n",
    "* any data can output in any data range, like a square box in a scatter plot, *uniform distribution*\n",
    "* columns => variables, features, dimensions"
   ]
  }
 ],
 "metadata": {
  "kernelspec": {
   "display_name": "Python 3",
   "language": "python",
   "name": "python3"
  },
  "language_info": {
   "codemirror_mode": {
    "name": "ipython",
    "version": 3
   },
   "file_extension": ".py",
   "mimetype": "text/x-python",
   "name": "python",
   "nbconvert_exporter": "python",
   "pygments_lexer": "ipython3",
   "version": "3.7.3"
  }
 },
 "nbformat": 4,
 "nbformat_minor": 2
}
